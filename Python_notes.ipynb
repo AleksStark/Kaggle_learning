{
  "nbformat": 4,
  "nbformat_minor": 0,
  "metadata": {
    "colab": {
      "name": "Python notes.ipynb",
      "provenance": [],
      "collapsed_sections": [],
      "authorship_tag": "ABX9TyMNlsdYw5g3KclcEZs4s81O",
      "include_colab_link": true
    },
    "kernelspec": {
      "name": "python3",
      "display_name": "Python 3"
    }
  },
  "cells": [
    {
      "cell_type": "markdown",
      "metadata": {
        "id": "view-in-github",
        "colab_type": "text"
      },
      "source": [
        "<a href=\"https://colab.research.google.com/github/AlekseiMikhalev/Data-Scientist-Learning-Path/blob/master/Python_notes.ipynb\" target=\"_parent\"><img src=\"https://colab.research.google.com/assets/colab-badge.svg\" alt=\"Open In Colab\"/></a>"
      ]
    },
    {
      "cell_type": "markdown",
      "metadata": {
        "id": "u6dVEzKVsNjD",
        "colab_type": "text"
      },
      "source": [
        "# __Travis - dummy security checker__"
      ]
    },
    {
      "cell_type": "code",
      "metadata": {
        "id": "Ni0oYT36ieF6",
        "colab_type": "code",
        "outputId": "5e57cbfb-8ae3-44e3-81a2-439e0366dd2b",
        "colab": {
          "base_uri": "https://localhost:8080/",
          "height": 35
        }
      },
      "source": [
        "#Travis\n",
        "known_users = ['Alice', 'Bob','Claire', 'Dan', 'Emma', 'Fred', 'George', 'Harry']\n",
        "print(len(known_users))"
      ],
      "execution_count": 0,
      "outputs": [
        {
          "output_type": "stream",
          "text": [
            "8\n"
          ],
          "name": "stdout"
        }
      ]
    },
    {
      "cell_type": "code",
      "metadata": {
        "id": "S3WsSkUhij1p",
        "colab_type": "code",
        "colab": {}
      },
      "source": [
        "while True:\n",
        "  print('Hi! My name is Travis')\n",
        "  name = input('What is your name?').strip().capitalize()\n",
        "  if name in known_users:\n",
        "    print('Hello {}!'.format(name), 'You are welcome! Enjoy the party!')\n",
        "    remove = input('Would you like to be removed from the system (y/n)?:').lower()\n",
        "    if remove == 'y':\n",
        "      known_users.remove(name)\n",
        "    elif remove == 'n':\n",
        "        print('No problem, I didn\\'t want you to leave anyway!')\n",
        "\n",
        "  else:\n",
        "    print('Sorry {}'.format(name), 'You are not in the list')\n",
        "    add_me = input('Would you like to be added to the system (y/n):').strip().lower()\n",
        "    if add_me == 'y':\n",
        "      known_users.append(name)\n",
        "    elif add_me == 'n':\n",
        "        print('No worries, see you around!')"
      ],
      "execution_count": 0,
      "outputs": []
    },
    {
      "cell_type": "code",
      "metadata": {
        "id": "LAlF_sMSinrx",
        "colab_type": "code",
        "colab": {}
      },
      "source": [
        "known_users.insert(1, ['Alex', 'Mila', 'John']) # insert list into the list"
      ],
      "execution_count": 0,
      "outputs": []
    },
    {
      "cell_type": "code",
      "metadata": {
        "id": "Gp7hhgwjttVl",
        "colab_type": "code",
        "colab": {}
      },
      "source": [
        "known_users"
      ],
      "execution_count": 0,
      "outputs": []
    },
    {
      "cell_type": "code",
      "metadata": {
        "id": "dfavA56Ftub9",
        "colab_type": "code",
        "colab": {}
      },
      "source": [
        "students = {}\n",
        "students = {'Alice':25, 'Bob':27, 'Claire':17, 'Dan':21, 'Emma':22}"
      ],
      "execution_count": 0,
      "outputs": []
    },
    {
      "cell_type": "code",
      "metadata": {
        "id": "IONjE7RWVPSk",
        "colab_type": "code",
        "colab": {}
      },
      "source": [
        "del students['Fred']"
      ],
      "execution_count": 0,
      "outputs": []
    },
    {
      "cell_type": "code",
      "metadata": {
        "id": "LkxLm1hYWTBS",
        "colab_type": "code",
        "colab": {}
      },
      "source": [
        "a = list(students.values())\n",
        "a\n"
      ],
      "execution_count": 0,
      "outputs": []
    },
    {
      "cell_type": "code",
      "metadata": {
        "id": "bO5n3NEvX1y-",
        "colab_type": "code",
        "colab": {}
      },
      "source": [
        "students.keys()"
      ],
      "execution_count": 0,
      "outputs": []
    },
    {
      "cell_type": "code",
      "metadata": {
        "id": "6mDHcZYYWdu1",
        "colab_type": "code",
        "colab": {}
      },
      "source": [
        "a[2]"
      ],
      "execution_count": 0,
      "outputs": []
    },
    {
      "cell_type": "code",
      "metadata": {
        "id": "JRlu99tIXCFC",
        "colab_type": "code",
        "colab": {}
      },
      "source": [
        "students.items()"
      ],
      "execution_count": 0,
      "outputs": []
    },
    {
      "cell_type": "code",
      "metadata": {
        "id": "nM0Bd7C3Xp1-",
        "colab_type": "code",
        "colab": {}
      },
      "source": [
        "students = {'Alice':['ID0001', 26, 'A'], 'Bob':['ID0002', 27, 'B'], 'Claire':['ID0003', 17, 'C'], 'Dan':['ID0004', 21, 'D'], 'Emma':['ID0005', 22, 'E']}"
      ],
      "execution_count": 0,
      "outputs": []
    },
    {
      "cell_type": "code",
      "metadata": {
        "id": "CvKSzrhNhL1Z",
        "colab_type": "code",
        "colab": {}
      },
      "source": [
        "students['Claire']"
      ],
      "execution_count": 0,
      "outputs": []
    },
    {
      "cell_type": "code",
      "metadata": {
        "id": "WHEuw7nShM-f",
        "colab_type": "code",
        "colab": {}
      },
      "source": [
        "students['Claire'][0]"
      ],
      "execution_count": 0,
      "outputs": []
    },
    {
      "cell_type": "code",
      "metadata": {
        "id": "_G29EwlOheQg",
        "colab_type": "code",
        "colab": {}
      },
      "source": [
        "students = {'Alice':{'ID': '0001', 'AGE': 26, 'GRADE': 'A'}, 'Bob':{'ID': '0002', 'AGE': 27, 'GRADE': 'B'}, 'Claire':{'ID':'0003', 'AGE': 17, 'GRADE': 'C'}, 'Dan':{'ID': '0004', 'AGE': 21, 'GRADE': 'D'}, 'Emma':{'ID': '0005', 'AGE': 22, 'GRADE': 'E'}}"
      ],
      "execution_count": 0,
      "outputs": []
    },
    {
      "cell_type": "code",
      "metadata": {
        "id": "qu4Lr6Cqikcj",
        "colab_type": "code",
        "colab": {}
      },
      "source": [
        "students['Alice']['ID']"
      ],
      "execution_count": 0,
      "outputs": []
    },
    {
      "cell_type": "markdown",
      "metadata": {
        "id": "DNpo9-6_jT_j",
        "colab_type": "text"
      },
      "source": [
        "# __Cinema Simulator__"
      ]
    },
    {
      "cell_type": "code",
      "metadata": {
        "id": "lM1uDs_uiqqP",
        "colab_type": "code",
        "colab": {}
      },
      "source": [
        "films = {'Finding Dory':[3, 5], 'Bourne':[18, 5], 'Tarzan':[15, 5], 'Ghost Busters':[12, 5]}\n"
      ],
      "execution_count": 0,
      "outputs": []
    },
    {
      "cell_type": "code",
      "metadata": {
        "id": "_IciUkcojyEM",
        "colab_type": "code",
        "colab": {}
      },
      "source": [
        "while True:\n",
        "  choice = input('What film would you like to watch?').strip().title()\n",
        "  if choice in films:\n",
        "    age = int(input('How old are you?').strip())\n",
        "    if age >= films[choice][0]: # check user age\n",
        "      # check enough seats\n",
        "      num_seats = films[choice][1]\n",
        "      if num_seats > 0:\n",
        "        print('Enjoy the film')\n",
        "        films[choice][1] = films[choice][1] - 1 \n",
        "      else:\n",
        "        print('Sorry, we are sold out!')\n",
        "    else:\n",
        "      print('You are too young to see that film')\n",
        "    pass\n",
        "  else:\n",
        "    print('We don\\'t have that film...')"
      ],
      "execution_count": 0,
      "outputs": []
    },
    {
      "cell_type": "markdown",
      "metadata": {
        "id": "NxaqGQrjnyWc",
        "colab_type": "text"
      },
      "source": [
        "## _While_ __Loop__"
      ]
    },
    {
      "cell_type": "code",
      "metadata": {
        "id": "_pUv-zURkeRi",
        "colab_type": "code",
        "colab": {}
      },
      "source": [
        "number = 1\n",
        "while number <= 10:\n",
        "  print(number)\n",
        "  number = number + 1\n"
      ],
      "execution_count": 0,
      "outputs": []
    },
    {
      "cell_type": "code",
      "metadata": {
        "id": "xW9poa0kowYz",
        "colab_type": "code",
        "colab": {}
      },
      "source": [
        "number = 1\n",
        "while number <= 10:\n",
        "  if number % 2 == 0:\n",
        "    print(number)\n",
        "  number = number + 1"
      ],
      "execution_count": 0,
      "outputs": []
    },
    {
      "cell_type": "code",
      "metadata": {
        "id": "HjgbKOI4pVEZ",
        "colab_type": "code",
        "colab": {}
      },
      "source": [
        "L = []\n",
        "\n",
        "while len(L) < 3:\n",
        "  new_name = input('Please add a new name:').strip().capitalize()\n",
        "  L.append(new_name)\n",
        "print('Sorry, list is full')\n",
        "print(L)"
      ],
      "execution_count": 0,
      "outputs": []
    },
    {
      "cell_type": "markdown",
      "metadata": {
        "id": "Saf7DkPks1m9",
        "colab_type": "text"
      },
      "source": [
        "# __Baby Conversation Simulator__"
      ]
    },
    {
      "cell_type": "code",
      "metadata": {
        "id": "0mMHT6x6sRf3",
        "colab_type": "code",
        "colab": {}
      },
      "source": [
        "from random import choice\n",
        "\n",
        "questions = ['Why is the sky blue?', 'Why is there a face on the moon?',\n",
        "             'Where are all the dinosaurs?']\n",
        "question = choice(questions)\n",
        "\n",
        "answer = input(question).strip().lower()\n",
        "\n",
        "while answer != 'just because':\n",
        "  answer = input('Why?:').strip().lower()\n",
        "print('Oh...Okay')"
      ],
      "execution_count": 0,
      "outputs": []
    },
    {
      "cell_type": "markdown",
      "metadata": {
        "id": "yWk_-sXsvNQp",
        "colab_type": "text"
      },
      "source": [
        "## _For_ __Loop__"
      ]
    },
    {
      "cell_type": "code",
      "metadata": {
        "id": "X6xoitLFtZ4U",
        "colab_type": "code",
        "colab": {}
      },
      "source": [
        "for number in range(1,11):\n",
        "  print(number)"
      ],
      "execution_count": 0,
      "outputs": []
    },
    {
      "cell_type": "code",
      "metadata": {
        "id": "UX4DoI8HvTIY",
        "colab_type": "code",
        "colab": {}
      },
      "source": [
        "for letter in 'abcde':\n",
        "  print(letter)"
      ],
      "execution_count": 0,
      "outputs": []
    },
    {
      "cell_type": "code",
      "metadata": {
        "id": "llsgbbaD8BDA",
        "colab_type": "code",
        "colab": {}
      },
      "source": [
        "for number in range(1, 20, 4): # step = 4\n",
        "  print(number)"
      ],
      "execution_count": 0,
      "outputs": []
    },
    {
      "cell_type": "code",
      "metadata": {
        "id": "pTnvjKWp_Ry9",
        "colab_type": "code",
        "colab": {}
      },
      "source": [
        "vowels = 0\n",
        "consonants = 0\n",
        "\n",
        "for letter in 'Hello':\n",
        "  if letter.lower() in 'aeiou':\n",
        "    vowels = vowels + 1\n",
        "  elif letter == '':\n",
        "    pass\n",
        "  else:\n",
        "    consonants = consonants + 1\n",
        "\n",
        "print('There are {} vowels'.format(vowels))\n",
        "print('There are {} consonants'.format(consonants))"
      ],
      "execution_count": 0,
      "outputs": []
    },
    {
      "cell_type": "code",
      "metadata": {
        "id": "8mf4SIsYAA6t",
        "colab_type": "code",
        "colab": {}
      },
      "source": [
        "students = {'male': ['Tom', 'Charlie', 'Harry', 'Frank'],\n",
        "            'female': ['Sarah', 'Huda', 'Samantha', 'Emily', 'Elizabeth']}\n",
        "\n",
        "for key in students.keys():\n",
        "  # print(students[key])\n",
        "  for name in students[key]:\n",
        "    if 'h' in name:\n",
        "      print(name)"
      ],
      "execution_count": 0,
      "outputs": []
    },
    {
      "cell_type": "code",
      "metadata": {
        "id": "nRft64VIA1ki",
        "colab_type": "code",
        "colab": {}
      },
      "source": [
        "# Lambda\n",
        "even_numbers = [x for x in range(1, 10) if x % 2 == 0]\n",
        "print(even_numbers)"
      ],
      "execution_count": 0,
      "outputs": []
    },
    {
      "cell_type": "code",
      "metadata": {
        "id": "rZM0DsJnDqU1",
        "colab_type": "code",
        "colab": {}
      },
      "source": [
        "words = ['the', 'quick', 'brown', 'fox', 'jumps']\n",
        "answer = [[w.upper(), w.lower(), len(w)] for w in words]\n",
        "print(answer)"
      ],
      "execution_count": 0,
      "outputs": []
    },
    {
      "cell_type": "markdown",
      "metadata": {
        "id": "huXC0xsvEayE",
        "colab_type": "text"
      },
      "source": [
        "# __Pig Latin__\n",
        "\n",
        "1. Get sentence from user\n",
        "2. Split sentence into words\n",
        "3. Loop through words and convert to pig latin\n",
        "4. Stick words back together\n",
        "5. Output the final string"
      ]
    },
    {
      "cell_type": "code",
      "metadata": {
        "id": "LIWgC_23FuKf",
        "colab_type": "code",
        "colab": {}
      },
      "source": [
        "# Get sentence from user\n",
        "original = input('Please enter a sentence').strip().lower()\n",
        "\n",
        "# Split sentence into words\n",
        "words = original.split()\n",
        "\n",
        "new_words = []\n",
        "# Conversion rules:\n",
        "# if it starts with vowel, just add 'yay'\n",
        "# otherwise, move first consonant cluser to end, and add 'ay'\n",
        "\n",
        "# Loop through words and convert to pig latin\n",
        "for word in words:\n",
        "  if word[0] in 'aeiou':\n",
        "    new_word = word + 'yay'\n",
        "    new_words.append(new_word)\n",
        "  else:\n",
        "    vowels_pos = 0\n",
        "    for letter in word:\n",
        "      if letter not in 'aeiou':\n",
        "        vowels_pos = vowels_pos + 1\n",
        "      else:\n",
        "        break\n",
        "    cons = word[:vowels_pos]\n",
        "    the_rest = word[vowels_pos:]\n",
        "    new_word = the_rest + cons + 'ay'\n",
        "    new_words.append(new_word)\n",
        "\n",
        "# Stick words back together\n",
        "output = ' '.join(new_words)\n",
        "\n",
        "# Output the final string\n",
        "print(output)"
      ],
      "execution_count": 0,
      "outputs": []
    },
    {
      "cell_type": "markdown",
      "metadata": {
        "id": "bjzMa5aT1_YO",
        "colab_type": "text"
      },
      "source": [
        "## __Functions__"
      ]
    },
    {
      "cell_type": "code",
      "metadata": {
        "id": "z3WdtqqWG10w",
        "colab_type": "code",
        "colab": {
          "base_uri": "https://localhost:8080/",
          "height": 35
        },
        "outputId": "218f87ef-b61a-40cd-9301-c6c832387104"
      },
      "source": [
        "def about(name, age, likes = 'Python'): # default parameters must go at the end\n",
        "  sentence = 'Meet {}! They are {} years old and they like {}'.format(name, age, likes)\n",
        "  return sentence\n",
        "\n",
        "about('Jack', 23)"
      ],
      "execution_count": 8,
      "outputs": [
        {
          "output_type": "execute_result",
          "data": {
            "text/plain": [
              "'Meet Jack! They are 23 years old and they like Python'"
            ]
          },
          "metadata": {
            "tags": []
          },
          "execution_count": 8
        }
      ]
    },
    {
      "cell_type": "markdown",
      "metadata": {
        "id": "x3Q8OG3b61hh",
        "colab_type": "text"
      },
      "source": [
        "## __Packing and Unpacking__"
      ]
    },
    {
      "cell_type": "code",
      "metadata": {
        "id": "CDvQjFQf2Z6C",
        "colab_type": "code",
        "colab": {
          "base_uri": "https://localhost:8080/",
          "height": 35
        },
        "outputId": "33fae33d-38ec-4f4b-d86e-ef6ed6587315"
      },
      "source": [
        "numbers = [1, 2, 3, 4, 5, 6]\n",
        "print(numbers)"
      ],
      "execution_count": 9,
      "outputs": [
        {
          "output_type": "stream",
          "text": [
            "[1, 2, 3, 4, 5, 6]\n"
          ],
          "name": "stdout"
        }
      ]
    },
    {
      "cell_type": "code",
      "metadata": {
        "id": "LT2W6rVc68YD",
        "colab_type": "code",
        "colab": {
          "base_uri": "https://localhost:8080/",
          "height": 35
        },
        "outputId": "6ba801a2-35d7-410e-f5c7-c4481c4d9b6d"
      },
      "source": [
        "print(*numbers) # * - unpack arguments into separate items"
      ],
      "execution_count": 10,
      "outputs": [
        {
          "output_type": "stream",
          "text": [
            "1 2 3 4 5 6\n"
          ],
          "name": "stdout"
        }
      ]
    },
    {
      "cell_type": "code",
      "metadata": {
        "id": "0TBhJWEJ6-v8",
        "colab_type": "code",
        "colab": {
          "base_uri": "https://localhost:8080/",
          "height": 35
        },
        "outputId": "f1a0fe21-80aa-4b94-b7c9-3bc66e89a3d7"
      },
      "source": [
        "print(*'abc')"
      ],
      "execution_count": 11,
      "outputs": [
        {
          "output_type": "stream",
          "text": [
            "a b c\n"
          ],
          "name": "stdout"
        }
      ]
    },
    {
      "cell_type": "code",
      "metadata": {
        "id": "V6KwcVr47DwR",
        "colab_type": "code",
        "colab": {
          "base_uri": "https://localhost:8080/",
          "height": 35
        },
        "outputId": "747abf6c-8b7e-4d51-f8ef-591b445de05d"
      },
      "source": [
        "def add(x, y):\n",
        "  return x + y\n",
        "\n",
        "add(10, 10)"
      ],
      "execution_count": 12,
      "outputs": [
        {
          "output_type": "execute_result",
          "data": {
            "text/plain": [
              "20"
            ]
          },
          "metadata": {
            "tags": []
          },
          "execution_count": 12
        }
      ]
    },
    {
      "cell_type": "code",
      "metadata": {
        "id": "zC13LrVM7WGM",
        "colab_type": "code",
        "colab": {
          "base_uri": "https://localhost:8080/",
          "height": 35
        },
        "outputId": "723d2a22-ba5b-470a-c455-28f4d8ae2500"
      },
      "source": [
        "def add(*numbers): # packing \n",
        "  total = 0\n",
        "  for number in numbers:\n",
        "    total = total + number\n",
        "  return(total)\n",
        "\n",
        "add(1, 2, 3, 4, 5, 6, 7, 8, 9)"
      ],
      "execution_count": 14,
      "outputs": [
        {
          "output_type": "execute_result",
          "data": {
            "text/plain": [
              "45"
            ]
          },
          "metadata": {
            "tags": []
          },
          "execution_count": 14
        }
      ]
    },
    {
      "cell_type": "code",
      "metadata": {
        "id": "YobNRegM7hCN",
        "colab_type": "code",
        "colab": {
          "base_uri": "https://localhost:8080/",
          "height": 35
        },
        "outputId": "a3b3c3a3-a7ac-448b-de59-9fabb2960183"
      },
      "source": [
        "def about(name, age, likes): # default parameters must go at the end\n",
        "  sentence = 'Meet {}! They are {} years old and they like {}'.format(name, age, likes)\n",
        "  return sentence\n",
        "\n",
        "dictionary = {'name': 'Alex', 'age': 32, 'likes': 'Python'} # order doesnt' matter, keys are important\n",
        "\n",
        "about(**dictionary)"
      ],
      "execution_count": 17,
      "outputs": [
        {
          "output_type": "execute_result",
          "data": {
            "text/plain": [
              "'Meet Alex! They are 32 years old and they like Python'"
            ]
          },
          "metadata": {
            "tags": []
          },
          "execution_count": 17
        }
      ]
    },
    {
      "cell_type": "code",
      "metadata": {
        "id": "DlhPEMH88khA",
        "colab_type": "code",
        "colab": {
          "base_uri": "https://localhost:8080/",
          "height": 90
        },
        "outputId": "3ffc5307-56a2-443f-dacf-b791d4600a3c"
      },
      "source": [
        "def foo(**kwargs):\n",
        "  for key, value in kwargs.items():\n",
        "    print('{}:{}'.format(key, value))\n",
        "\n",
        "foo(huda = 'female', ziyad = 'male', john = 'male', alex = 'male')"
      ],
      "execution_count": 19,
      "outputs": [
        {
          "output_type": "stream",
          "text": [
            "huda:female\n",
            "ziyad:male\n",
            "john:male\n",
            "alex:male\n"
          ],
          "name": "stdout"
        }
      ]
    },
    {
      "cell_type": "markdown",
      "metadata": {
        "id": "TftWApOIG9N2",
        "colab_type": "text"
      },
      "source": [
        "# __Tic Tac Toe Project__"
      ]
    },
    {
      "cell_type": "code",
      "metadata": {
        "id": "K4uAF_9aGt_S",
        "colab_type": "code",
        "colab": {}
      },
      "source": [
        "board = [' ' for i in range(9)]\n",
        "\n",
        "def print_board():\n",
        "  row1 = '| {} | {} | {} |'.format(board[0], board[1], board[2])\n",
        "  row2 = '| {} | {} | {} |'.format(board[3], board[4], board[5])\n",
        "  row3 = '| {} | {} | {} |'.format(board[6], board[7], board[8])\n",
        "\n",
        "  print()\n",
        "  print(row1)\n",
        "  print(row2)\n",
        "  print(row3)\n",
        "  print()\n",
        "\n",
        "def player_move(icon):\n",
        "  if icon == 'X':\n",
        "    number = 1\n",
        "  elif icon == 'O':\n",
        "    number = 2\n",
        "  print('Your turn player {}'.format(number))\n",
        "\n",
        "  choice = int(input('Enter your move(1-9):').strip())\n",
        "  if board[choice - 1] == ' ':\n",
        "    board[choice - 1] = icon\n",
        "  else:\n",
        "    print()\n",
        "    print('That space is taken!')\n",
        "\n",
        "def is_victory(icon):\n",
        "  if(board[0] == icon and board[1] == icon and board[2] == icon) or \\\n",
        "    (board[3] == icon and board[4] == icon and board[5] == icon) or \\\n",
        "    (board[6] == icon and board[7] == icon and board[8] == icon) or \\\n",
        "    (board[0] == icon and board[3] == icon and board[6] == icon) or \\\n",
        "    (board[1] == icon and board[4] == icon and board[7] == icon) or \\\n",
        "    (board[2] == icon and board[5] == icon and board[8] == icon) or \\\n",
        "    (board[0] == icon and board[4] == icon and board[8] == icon) or \\\n",
        "    (board[2] == icon and board[4] == icon and board[6] == icon):\n",
        "    return True\n",
        "  else:\n",
        "    return False\n",
        "\n",
        "def is_draw():\n",
        "  if ' ' not in board:\n",
        "    return True\n",
        "  else:\n",
        "    return False\n",
        "\n",
        "while True:\n",
        "  print_board()\n",
        "  player_move('X')\n",
        "  print_board()\n",
        "  if is_victory('X'):\n",
        "    print('X Wins! Congratilations!')\n",
        "    break\n",
        "  elif is_draw():\n",
        "    print('Its a draw!')\n",
        "    break\n",
        "  player_move('O')\n",
        "  if is_victory('O'):\n",
        "    print_board()\n",
        "    print('O Wins! Congratilations!')\n",
        "    break\n",
        "  elif is_draw():\n",
        "    print('Its a draw!')\n",
        "    break\n",
        "  \n",
        "\n",
        "  \n"
      ],
      "execution_count": 0,
      "outputs": []
    },
    {
      "cell_type": "code",
      "metadata": {
        "id": "ryLodfZlHlcu",
        "colab_type": "code",
        "colab": {}
      },
      "source": [
        ""
      ],
      "execution_count": 0,
      "outputs": []
    }
  ]
}