{
  "nbformat": 4,
  "nbformat_minor": 0,
  "metadata": {
    "colab": {
      "name": "04_Valuation_Tool.ipynb",
      "provenance": [],
      "collapsed_sections": []
    },
    "kernelspec": {
      "name": "python3",
      "display_name": "Python 3"
    }
  },
  "cells": [
    {
      "cell_type": "code",
      "metadata": {
        "id": "kccDzy2LGZzM",
        "colab_type": "code",
        "colab": {}
      },
      "source": [
        "from sklearn.datasets import load_boston\n",
        "from sklearn.linear_model import LinearRegression\n",
        "from sklearn.metrics import mean_squared_error\n",
        "\n",
        "import pandas as pd\n",
        "import numpy as np"
      ],
      "execution_count": 0,
      "outputs": []
    },
    {
      "cell_type": "code",
      "metadata": {
        "id": "BIRuTzH4Gu3J",
        "colab_type": "code",
        "outputId": "eb4b4131-e072-4aed-e78a-1a61c18dcf59",
        "colab": {
          "base_uri": "https://localhost:8080/",
          "height": 35
        }
      },
      "source": [
        "# Gather Data\n",
        "boston_dataset = load_boston()\n",
        "data = pd.DataFrame(data=boston_dataset.data, columns=boston_dataset.feature_names)\n",
        "features = data.drop(['INDUS', 'AGE'], axis=1)\n",
        "\n",
        "log_prices = np.log(boston_dataset.target)\n",
        "target = pd.DataFrame(log_prices, columns=['PRICE'])\n",
        "target.shape"
      ],
      "execution_count": 2,
      "outputs": [
        {
          "output_type": "execute_result",
          "data": {
            "text/plain": [
              "(506, 1)"
            ]
          },
          "metadata": {
            "tags": []
          },
          "execution_count": 2
        }
      ]
    },
    {
      "cell_type": "code",
      "metadata": {
        "id": "OvEMd1_LHIfF",
        "colab_type": "code",
        "colab": {}
      },
      "source": [
        "CRIME_IDX = 0\n",
        "ZN_IDX = 1\n",
        "CHAS_IDX = 2\n",
        "RM_IDX = 4\n",
        "PRTRATIO_IDX = 8\n",
        "\n",
        "# property_stats = np.ndarray(shape=(1, 11))\n",
        "# property_stats[0][CRIME_IDX] = features['CRIM'].mean()\n",
        "# property_stats[0][ZN_IDX] = features['ZN'].mean()\n",
        "# property_stats[0][CHAS_IDX] = features['CHAS'].mean()\n",
        "\n",
        "property_stats = features.mean().values.reshape(1, 11) # we have to reshape 'features' into 2D array\n",
        "# 'property_stats' is like a template for our prediction"
      ],
      "execution_count": 0,
      "outputs": []
    },
    {
      "cell_type": "code",
      "metadata": {
        "id": "HZFJOtEPIVss",
        "colab_type": "code",
        "colab": {}
      },
      "source": [
        "regr = LinearRegression().fit(features, target)\n",
        "fitted_vals = regr.predict(features)\n",
        "\n",
        "# MSE & RMSE\n",
        "MSE = mean_squared_error(target, fitted_vals)\n",
        "RMSE = np.sqrt(MSE)"
      ],
      "execution_count": 0,
      "outputs": []
    },
    {
      "cell_type": "code",
      "metadata": {
        "id": "r1puw0RFK5ki",
        "colab_type": "code",
        "colab": {}
      },
      "source": [
        "def get_log_estimate(nr_rooms, \n",
        "                     students_per_classroom,\n",
        "                     next_to_river=False, \n",
        "                     high_confidence=True):\n",
        "  \n",
        "  # Configure property\n",
        "  property_stats[0][RM_IDX] = nr_rooms\n",
        "  property_stats[0][PRTRATIO_IDX] = students_per_classroom\n",
        "  \n",
        "  if next_to_river:\n",
        "    property_stats[0][CHAS_IDX] = 1\n",
        "  else:\n",
        "    property_stats[0][CHAS_IDX] = 0\n",
        "\n",
        "\n",
        "  # Make prediction\n",
        "  log_estimate = regr.predict(property_stats)[0][0]\n",
        "\n",
        "  # Calc Range\n",
        "  if high_confidence:\n",
        "    upper_bound = log_estimate + 2*RMSE\n",
        "    lower_bound = log_estimate - 2*RMSE\n",
        "    interval = 95\n",
        "  else:\n",
        "    upper_bound = log_estimate + RMSE\n",
        "    lower_bound = log_estimate - RMSE\n",
        "    interval = 68\n",
        "\n",
        "  return log_estimate, upper_bound, lower_bound, interval"
      ],
      "execution_count": 0,
      "outputs": []
    },
    {
      "cell_type": "code",
      "metadata": {
        "id": "yRq-7vWxNpJO",
        "colab_type": "code",
        "outputId": "3d36a2a0-1b45-4527-bad4-c2843eb1849c",
        "colab": {
          "base_uri": "https://localhost:8080/",
          "height": 35
        }
      },
      "source": [
        "get_log_estimate(3, 20, next_to_river=True)"
      ],
      "execution_count": 11,
      "outputs": [
        {
          "output_type": "execute_result",
          "data": {
            "text/plain": [
              "(2.7767581914803987, 3.1517824618746593, 2.401733921086138, 95)"
            ]
          },
          "metadata": {
            "tags": []
          },
          "execution_count": 11
        }
      ]
    },
    {
      "cell_type": "code",
      "metadata": {
        "id": "hwX429PjPQoD",
        "colab_type": "code",
        "colab": {
          "base_uri": "https://localhost:8080/",
          "height": 35
        },
        "outputId": "6ea3e3d2-6760-45c6-a812-a72ed4a341e4"
      },
      "source": [
        "np.median(boston_dataset.target) # median values of property in 1970s (dataset dated 1978)"
      ],
      "execution_count": 13,
      "outputs": [
        {
          "output_type": "execute_result",
          "data": {
            "text/plain": [
              "21.2"
            ]
          },
          "metadata": {
            "tags": []
          },
          "execution_count": 13
        }
      ]
    },
    {
      "cell_type": "code",
      "metadata": {
        "id": "IC-XqcbM_a1u",
        "colab_type": "code",
        "colab": {
          "base_uri": "https://localhost:8080/",
          "height": 72
        },
        "outputId": "82601b54-18c2-41dd-a14a-b26819525fda"
      },
      "source": [
        "# Update prices based on Zillow webside\n",
        "\n",
        "ZILLOW_MEDIAN_PRICE = 583.3\n",
        "SCALE_FACTOR = ZILLOW_MEDIAN_PRICE / np.median(boston_dataset.target)\n",
        "\n"
      ],
      "execution_count": 19,
      "outputs": [
        {
          "output_type": "stream",
          "text": [
            "The estimated property value is 827000.0.\n",
            "At 68% confidence the valuation range is\n",
            "USD 685000.0 at the lower end to USD 997000.0 at the high end.\n"
          ],
          "name": "stdout"
        }
      ]
    },
    {
      "cell_type": "code",
      "metadata": {
        "id": "GSTk9MtRAQYK",
        "colab_type": "code",
        "colab": {}
      },
      "source": [
        "def get_dollar_estimate(rm, ptration, chas=False, large_range=True):\n",
        "\n",
        "  '''Estimate the price of a property in Boston.\n",
        "\n",
        "  Keyword arguments:\n",
        "  \n",
        "  rm == number of room in the property\n",
        "\n",
        "  ptration == number of students per teacher in the classroom for the school in the area\n",
        "  \n",
        "  chas == True if the property is next to the river, False otherwise\n",
        "  \n",
        "  large_range == True for a 95% prediction interval, False for a 68% interval.\n",
        "\n",
        "  '''\n",
        "\n",
        "  if rm < 1 or ptration < 1:\n",
        "    print('That is unrealistic. Try again.')\n",
        "    return\n",
        "  \n",
        "  log_est, upper, lower, conf = get_log_estimate(rm, students_per_classroom=ptration, next_to_river=chas, high_confidence=large_range)\n",
        "\n",
        "  # Convert to today's dollars\n",
        "  dollar_est = np.e**log_est * 1000 * SCALE_FACTOR\n",
        "  dollar_high = np.e**upper * 1000 * SCALE_FACTOR\n",
        "  dollar_low = np.e**lower * 1000 * SCALE_FACTOR\n",
        "\n",
        "  # Round the dollar values to nearest thousand\n",
        "  rounded_est = np.around(dollar_est, -3)\n",
        "  rounded_high = np.around(dollar_high, -3)\n",
        "  rounded_low = np.around(dollar_low, -3)\n",
        "\n",
        "  print(f'The estimated property value is {rounded_est}.')\n",
        "  print(f'At {conf}% confidence the valuation range is')\n",
        "  print(f'USD {rounded_low} at the lower end to USD {rounded_high} at the high end.')"
      ],
      "execution_count": 0,
      "outputs": []
    },
    {
      "cell_type": "code",
      "metadata": {
        "id": "-FlXR1dSJVee",
        "colab_type": "code",
        "colab": {
          "base_uri": "https://localhost:8080/",
          "height": 72
        },
        "outputId": "a388b2cd-6e12-4af2-c9a6-6cf813f24ee8"
      },
      "source": [
        "get_dollar_estimate(rm=1, ptration=30, chas=True)"
      ],
      "execution_count": 33,
      "outputs": [
        {
          "output_type": "stream",
          "text": [
            "The estimated property value is 254000.0.\n",
            "At 95% confidence the valuation range is\n",
            "USD 174000.0 at the lower end to USD 369000.0 at the high end.\n"
          ],
          "name": "stdout"
        }
      ]
    },
    {
      "cell_type": "code",
      "metadata": {
        "id": "nt6ukeLQJhe7",
        "colab_type": "code",
        "colab": {
          "base_uri": "https://localhost:8080/",
          "height": 72
        },
        "outputId": "cdcc8c7a-b406-412d-c847-7a456f7c941a"
      },
      "source": [
        "# We created the separate file .py and inserted all our work there\n",
        "# Now we can just import the module 'boston_valuation' into any of our code \n",
        "import boston_valuation as val\n",
        "val.get_dollar_estimate(6, 12, True)"
      ],
      "execution_count": 37,
      "outputs": [
        {
          "output_type": "stream",
          "text": [
            "The estimated property value is 783000.0.\n",
            "At 95% confidence the valuation range is\n",
            "USD 538000.0 at the lower end to USD 1139000.0 at the high end.\n"
          ],
          "name": "stdout"
        }
      ]
    },
    {
      "cell_type": "code",
      "metadata": {
        "id": "fc4LjI91Ro9R",
        "colab_type": "code",
        "colab": {}
      },
      "source": [
        ""
      ],
      "execution_count": 0,
      "outputs": []
    }
  ]
}