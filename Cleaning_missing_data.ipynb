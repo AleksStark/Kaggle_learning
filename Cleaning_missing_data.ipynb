{
  "nbformat": 4,
  "nbformat_minor": 0,
  "metadata": {
    "colab": {
      "name": "Cleaning missing data.ipynb",
      "provenance": [],
      "include_colab_link": true
    },
    "kernelspec": {
      "name": "python3",
      "display_name": "Python 3"
    }
  },
  "cells": [
    {
      "cell_type": "markdown",
      "metadata": {
        "id": "view-in-github",
        "colab_type": "text"
      },
      "source": [
        "<a href=\"https://colab.research.google.com/github/AlekseiMikhalev/Data-Scientist-Learning-Path/blob/master/Cleaning_missing_data.ipynb\" target=\"_parent\"><img src=\"https://colab.research.google.com/assets/colab-badge.svg\" alt=\"Open In Colab\"/></a>"
      ]
    },
    {
      "cell_type": "markdown",
      "metadata": {
        "id": "2UbK86vp6jWE",
        "colab_type": "text"
      },
      "source": [
        "## In this notebook I collected the data cleaning methods for further use in data science projects. The source of this methods is the various tutorials from Kaggle users. "
      ]
    },
    {
      "cell_type": "markdown",
      "metadata": {
        "id": "zBVt3faq8-Vz",
        "colab_type": "text"
      },
      "source": [
        "### __Take a first look at the data__"
      ]
    },
    {
      "cell_type": "code",
      "metadata": {
        "id": "WYF_Y3ph6aV2",
        "colab_type": "code",
        "colab": {}
      },
      "source": [
        "# Import the necessary libraries\n",
        "\n",
        "import pandas as pd\n",
        "import numpy as np"
      ],
      "execution_count": 0,
      "outputs": []
    },
    {
      "cell_type": "code",
      "metadata": {
        "id": "fPrfxwCgAynq",
        "colab_type": "code",
        "colab": {}
      },
      "source": [
        "# read in all our data from Hack startup\n",
        "hack_data = pd.read_csv(\"/content/hack_startup_funding.csv\")\n",
        "\n",
        "# set seed for reproducibility\n",
        "np.random.seed(0) "
      ],
      "execution_count": 0,
      "outputs": []
    },
    {
      "cell_type": "code",
      "metadata": {
        "id": "kCR8f2NGBoOO",
        "colab_type": "code",
        "colab": {
          "base_uri": "https://localhost:8080/",
          "height": 296
        },
        "outputId": "ee66108f-8360-4823-8452-ea4c7f39dcc3"
      },
      "source": [
        "# look at a few random rows of the ycom_data file. I can check if I can see any missing data.\n",
        "hack_data.sample(5)"
      ],
      "execution_count": 8,
      "outputs": [
        {
          "output_type": "execute_result",
          "data": {
            "text/html": [
              "<div>\n",
              "<style scoped>\n",
              "    .dataframe tbody tr th:only-of-type {\n",
              "        vertical-align: middle;\n",
              "    }\n",
              "\n",
              "    .dataframe tbody tr th {\n",
              "        vertical-align: top;\n",
              "    }\n",
              "\n",
              "    .dataframe thead th {\n",
              "        text-align: right;\n",
              "    }\n",
              "</style>\n",
              "<table border=\"1\" class=\"dataframe\">\n",
              "  <thead>\n",
              "    <tr style=\"text-align: right;\">\n",
              "      <th></th>\n",
              "      <th>SNo</th>\n",
              "      <th>Date</th>\n",
              "      <th>StartupName</th>\n",
              "      <th>IndustryVertical</th>\n",
              "      <th>SubVertical</th>\n",
              "      <th>CityLocation</th>\n",
              "      <th>InvestorsName</th>\n",
              "      <th>InvestmentType</th>\n",
              "      <th>AmountInUSD</th>\n",
              "      <th>Remarks</th>\n",
              "    </tr>\n",
              "  </thead>\n",
              "  <tbody>\n",
              "    <tr>\n",
              "      <th>582</th>\n",
              "      <td>582</td>\n",
              "      <td>30/11/2016</td>\n",
              "      <td>Interviewpad</td>\n",
              "      <td>Technology</td>\n",
              "      <td>Engineering Interview facilitation platform</td>\n",
              "      <td>Pune</td>\n",
              "      <td>Krishna Rokhale</td>\n",
              "      <td>Seed Funding</td>\n",
              "      <td>100,000</td>\n",
              "      <td>NaN</td>\n",
              "    </tr>\n",
              "    <tr>\n",
              "      <th>477</th>\n",
              "      <td>477</td>\n",
              "      <td>14/12/2016</td>\n",
              "      <td>Fitpass</td>\n",
              "      <td>Consumer Internet</td>\n",
              "      <td>Fitness center aggregator &amp; Booking mobile app</td>\n",
              "      <td>New Delhi</td>\n",
              "      <td>Mumbai Angels</td>\n",
              "      <td>Seed Funding</td>\n",
              "      <td>1,000,000</td>\n",
              "      <td>NaN</td>\n",
              "    </tr>\n",
              "    <tr>\n",
              "      <th>215</th>\n",
              "      <td>215</td>\n",
              "      <td>13/04/2017</td>\n",
              "      <td>SafetyKart</td>\n",
              "      <td>eCommerce</td>\n",
              "      <td>Safety &amp; Hygiene Products etailer</td>\n",
              "      <td>Gurgaon</td>\n",
              "      <td>Redcliffe Capital</td>\n",
              "      <td>Private Equity</td>\n",
              "      <td>NaN</td>\n",
              "      <td>NaN</td>\n",
              "    </tr>\n",
              "    <tr>\n",
              "      <th>789</th>\n",
              "      <td>789</td>\n",
              "      <td>22/08/2016</td>\n",
              "      <td>Zzungry</td>\n",
              "      <td>Consumer Internet</td>\n",
              "      <td>Food Delivery platform</td>\n",
              "      <td>Bangalore</td>\n",
              "      <td>Satish Vasudeva, Madhusudhan Jujare &amp; Others</td>\n",
              "      <td>Seed Funding</td>\n",
              "      <td>NaN</td>\n",
              "      <td>NaN</td>\n",
              "    </tr>\n",
              "    <tr>\n",
              "      <th>529</th>\n",
              "      <td>529</td>\n",
              "      <td>05/11/2016</td>\n",
              "      <td>Bizongo</td>\n",
              "      <td>eCommerce</td>\n",
              "      <td>Packaging Material Marketplace</td>\n",
              "      <td>Mumbai</td>\n",
              "      <td>IDG Ventures, Accel Partners</td>\n",
              "      <td>Private Equity</td>\n",
              "      <td>3,000,000</td>\n",
              "      <td>NaN</td>\n",
              "    </tr>\n",
              "  </tbody>\n",
              "</table>\n",
              "</div>"
            ],
            "text/plain": [
              "     SNo        Date   StartupName  ...  InvestmentType AmountInUSD Remarks\n",
              "582  582  30/11/2016  Interviewpad  ...    Seed Funding     100,000     NaN\n",
              "477  477  14/12/2016       Fitpass  ...    Seed Funding   1,000,000     NaN\n",
              "215  215  13/04/2017    SafetyKart  ...  Private Equity         NaN     NaN\n",
              "789  789  22/08/2016       Zzungry  ...    Seed Funding         NaN     NaN\n",
              "529  529  05/11/2016       Bizongo  ...  Private Equity   3,000,000     NaN\n",
              "\n",
              "[5 rows x 10 columns]"
            ]
          },
          "metadata": {
            "tags": []
          },
          "execution_count": 8
        }
      ]
    },
    {
      "cell_type": "markdown",
      "metadata": {
        "id": "s2td_xIzDKu5",
        "colab_type": "text"
      },
      "source": [
        "Yes, it looks like there is some missing data."
      ]
    },
    {
      "cell_type": "markdown",
      "metadata": {
        "id": "q_iiPUGoDYXv",
        "colab_type": "text"
      },
      "source": [
        "__Calculate how many missing data points we have in each column__"
      ]
    },
    {
      "cell_type": "code",
      "metadata": {
        "id": "93vP-DxtCFir",
        "colab_type": "code",
        "colab": {
          "base_uri": "https://localhost:8080/",
          "height": 202
        },
        "outputId": "0b3bd135-259f-4eda-b35d-932c0b08045c"
      },
      "source": [
        "# get the number of missing data points per column\n",
        "missing_values_count = hack_data.isnull().sum()\n",
        "\n",
        "# look at the number of missing points in the first ten columns\n",
        "missing_values_count[0:10]"
      ],
      "execution_count": 9,
      "outputs": [
        {
          "output_type": "execute_result",
          "data": {
            "text/plain": [
              "SNo                    0\n",
              "Date                   0\n",
              "StartupName            0\n",
              "IndustryVertical     171\n",
              "SubVertical          936\n",
              "CityLocation         179\n",
              "InvestorsName          8\n",
              "InvestmentType         1\n",
              "AmountInUSD          847\n",
              "Remarks             1953\n",
              "dtype: int64"
            ]
          },
          "metadata": {
            "tags": []
          },
          "execution_count": 9
        }
      ]
    },
    {
      "cell_type": "markdown",
      "metadata": {
        "id": "fmdZwMiPD8Um",
        "colab_type": "text"
      },
      "source": [
        "Let's get the percentage of the values in our dataset that are missing. It gives us a better sense of the scale of this problem:"
      ]
    },
    {
      "cell_type": "code",
      "metadata": {
        "id": "e3GtNuiRDscy",
        "colab_type": "code",
        "colab": {
          "base_uri": "https://localhost:8080/",
          "height": 34
        },
        "outputId": "01c43222-9045-492a-ecef-c6525b732c61"
      },
      "source": [
        "# how many total missing values do we have?\n",
        "total_cells = np.product(hack_data.shape)\n",
        "total_missing = missing_values_count.sum()\n",
        "\n",
        "# percent of data that is missing\n",
        "(total_missing/total_cells) * 100"
      ],
      "execution_count": 10,
      "outputs": [
        {
          "output_type": "execute_result",
          "data": {
            "text/plain": [
              "17.263912310286678"
            ]
          },
          "metadata": {
            "tags": []
          },
          "execution_count": 10
        }
      ]
    },
    {
      "cell_type": "markdown",
      "metadata": {
        "id": "Ovx-NoG3EaFI",
        "colab_type": "text"
      },
      "source": [
        "17.2% is not that much, so I suppose we can work on filling them\n",
        "\n",
        "__Figure out why the data is missing__"
      ]
    },
    {
      "cell_type": "code",
      "metadata": {
        "id": "tGMEgN4cEV-X",
        "colab_type": "code",
        "colab": {}
      },
      "source": [
        ""
      ],
      "execution_count": 0,
      "outputs": []
    }
  ]
}